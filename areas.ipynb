{
  "nbformat": 4,
  "nbformat_minor": 0,
  "metadata": {
    "colab": {
      "provenance": [],
      "authorship_tag": "ABX9TyMGEiFN4lK0E4935OX0WrcQ",
      "include_colab_link": true
    },
    "kernelspec": {
      "name": "python3",
      "display_name": "Python 3"
    },
    "language_info": {
      "name": "python"
    }
  },
  "cells": [
    {
      "cell_type": "markdown",
      "metadata": {
        "id": "view-in-github",
        "colab_type": "text"
      },
      "source": [
        "<a href=\"https://colab.research.google.com/github/wendtfede/Python/blob/main/areas.ipynb\" target=\"_parent\"><img src=\"https://colab.research.google.com/assets/colab-badge.svg\" alt=\"Open In Colab\"/></a>"
      ]
    },
    {
      "cell_type": "code",
      "execution_count": null,
      "metadata": {
        "id": "7OilRdKo33MI"
      },
      "outputs": [],
      "source": [
        "print(\"calculadora de area\")\n",
        "\n",
        "def menu():\n",
        "  print(\"opcion 1: cuadrilatero\")\n",
        "  print(\"opcion 2: triangulo\")\n",
        "  print(\"opcion 3: circulo\")\n",
        "  print(\"opcion 4: salir\")\n",
        "\n",
        "menu()\n",
        "\n",
        "opcion = int(input(\"ingrese una opcion: \"))\n",
        "\n",
        "if opcion == 1:\n",
        "  print(\"opcion 1: cuadrilatero\")\n",
        "  lado1 = float(input(\"ingrese el lado 1: \"))\n",
        "  lado2 = float(input(\"ingrese el lado 2: \"))\n",
        "  area = lado1 * lado2\n",
        "  print(\"el area del cuadrilatero es: \", area)\n",
        "elif opcion == 2:\n",
        "  print(\"opcion 2: triangulo\")\n",
        "  base = float(input(\"ingrese la base: \"))\n",
        "  altura = float(input(\"ingrese la altura: \"))\n",
        "  area = (base * altura) / 2\n",
        "  print(\"el area del triangulo es: \", area)\n",
        "elif opcion == 3:\n",
        "  print(\"opcion 3: circulo\")\n",
        "  radio = float(input(\"ingrese el radio: \"))\n",
        "  area = 3.14 * (radio ** 2)\n",
        "  print(\"el area del circulo es: \", area)\n",
        "elif opcion == 4:\n",
        "  print(\"opcion 4: salir. gracias por utilizar el programa\")\n",
        "else:\n",
        "  print(\"opcion no valida\")\n",
        "\n",
        "\n",
        "\n",
        ""
      ]
    }
  ]
}